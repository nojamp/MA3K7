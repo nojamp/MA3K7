{
 "cells": [
  {
   "cell_type": "code",
   "execution_count": 1,
   "id": "abe005c6-3868-437e-a666-6ac9f6afc1cd",
   "metadata": {
    "tags": []
   },
   "outputs": [],
   "source": [
    "import numpy as np\n",
    "rng = np.random.default_rng()"
   ]
  },
  {
   "cell_type": "code",
   "execution_count": 2,
   "id": "8350e1a9-a19c-45ba-8847-e05b78d9e5a1",
   "metadata": {
    "tags": []
   },
   "outputs": [],
   "source": [
    "# function to stop counter going backwards and to generate new random direction\n",
    "def get_direction(direction):\n",
    "    dir_options = ['up', 'down', 'right', 'left']\n",
    "    if direction == 'up':\n",
    "        dir_options.remove('down')\n",
    "    elif direction == 'down':\n",
    "        dir_options.remove('up')\n",
    "    elif direction == 'right':\n",
    "        dir_options.remove('left')\n",
    "    elif direction == 'left':\n",
    "        dir_options.remove('right')    \n",
    "    direction = rng.choice(dir_options)\n",
    "    return direction\n",
    "\n",
    "# Function to check for 3x3 grid of ones within a matrix using the np.all function\n",
    "def check_square(grid):\n",
    "    rows, cols = grid.shape\n",
    "    for i in range(rows - 2):\n",
    "        for j in range(cols - 2):\n",
    "            if np.all(grid[i:i+3, j:j+3]):\n",
    "                return 1\n",
    "    return 0\n",
    "\n",
    "# Simulation of one game of a game with 9 counters\n",
    "# Returns 1 if a 3x3 square is made, and 0 otherwise\n",
    "def game_12chain():\n",
    "    # initialise grid and location of the 1-2 chain\n",
    "    grid = np.zeros((5,4))\n",
    "    i = 2\n",
    "    j = 2\n",
    "    grid[2,1] = 1\n",
    "    grid[i,j] = 1\n",
    "    direction = get_direction('right')\n",
    "    # main loop putting the rest of the 7 counters down\n",
    "    for k in range(7):\n",
    "        if direction == 'up':\n",
    "            i -= 1\n",
    "        elif direction == 'down':\n",
    "            i += 1\n",
    "        elif direction == 'right':\n",
    "            j += 1\n",
    "        elif direction == 'left':\n",
    "            j -= 1\n",
    "        if (i < 0) or (j < 0) or (i > 4) or (j > 3):\n",
    "            return 0\n",
    "        direction = get_direction(direction)\n",
    "        grid[i, j] = 1     \n",
    "    check = check_square(grid)\n",
    "    return check"
   ]
  },
  {
   "cell_type": "code",
   "execution_count": 3,
   "id": "eb148158-0a32-4e1e-b0f8-85f6612fe805",
   "metadata": {
    "tags": []
   },
   "outputs": [],
   "source": [
    "# function to simulate game with random placement of 2\n",
    "def game():\n",
    "    grid = np.zeros((7,5))\n",
    "    i = 2\n",
    "    j = 2\n",
    "    grid[i,j] = 1\n",
    "    direction = rng.choice(['up', 'down', 'right', 'left'])\n",
    "    # main loop putting the rest of the 8 counters down\n",
    "    for k in range(8):\n",
    "        if direction == 'up':\n",
    "            i -= 1\n",
    "        elif direction == 'down':\n",
    "            i += 1\n",
    "        elif direction == 'right':\n",
    "            j += 1\n",
    "        elif direction == 'left':\n",
    "            j -= 1\n",
    "        if (i < 0) or (j < 0) or (i > 4) or (j > 3):\n",
    "            return 0\n",
    "        direction = get_direction(direction)\n",
    "        grid[i, j] = 1     \n",
    "    check = check_square(grid)\n",
    "    return check"
   ]
  },
  {
   "cell_type": "code",
   "execution_count": 4,
   "id": "90e62551-a4b6-41dd-a5f4-c29dd0c0d05c",
   "metadata": {
    "tags": []
   },
   "outputs": [],
   "source": [
    "# function to run sims simulations of the game\n",
    "def simulation(k,sims):\n",
    "    res = 0\n",
    "    for i in range(sims):\n",
    "        res += k()\n",
    "    return res"
   ]
  },
  {
   "cell_type": "code",
   "execution_count": 5,
   "id": "e9e2cf80-f7ac-4caa-9712-f980de0bb3c2",
   "metadata": {
    "tags": []
   },
   "outputs": [
    {
     "data": {
      "text/plain": [
       "10.12581"
      ]
     },
     "execution_count": 5,
     "metadata": {},
     "output_type": "execute_result"
    }
   ],
   "source": [
    "# caluclat\n",
    "sims = 100000\n",
    "total = 3**7\n",
    "simulation(game_12chain,sims)*total/sims"
   ]
  },
  {
   "cell_type": "code",
   "execution_count": 6,
   "id": "d1a967d5-9f40-482e-8f4a-71e4f0700399",
   "metadata": {
    "tags": []
   },
   "outputs": [],
   "source": [
    "# Function to check for nxn grid of ones within a matrix using the np.all function\n",
    "def check_square_n(grid,n):\n",
    "    rows, cols = grid.shape\n",
    "    for i in range(rows - (n-1)):\n",
    "        for j in range(cols - (n-1)):\n",
    "            if np.all(grid[i:i+n, j:j+n]):\n",
    "                return 1\n",
    "    return 0\n",
    "\n",
    "# Function to simulate one game with n^2 counters with the 1-2 chain fixed\n",
    "def general_game_12chain(n):\n",
    "    dim1 = ( 2 * n ) - 1\n",
    "    dim2 = dim1 - 1\n",
    "    grid = np.zeros((dim1,dim2))\n",
    "    i = n-1\n",
    "    j = n-1\n",
    "    grid[i,j-1] = 1\n",
    "    grid[i,j] = 1\n",
    "    direction = get_direction('right')\n",
    "    n_square = n*n\n",
    "    for k in range(n_square-2):\n",
    "        if direction == 'up':\n",
    "            i -= 1\n",
    "        elif direction == 'down':\n",
    "            i += 1\n",
    "        elif direction == 'right':\n",
    "            j += 1\n",
    "        elif direction == 'left':\n",
    "            j -= 1\n",
    "        if (i < 0) or (j < 0) or (i > dim1-1) or (j > dim2-1):\n",
    "            return 0\n",
    "        direction = get_direction(direction)\n",
    "        grid[i, j] = 1     \n",
    "    check = check_square_n(grid,n)\n",
    "    return check\n",
    "\n",
    "# Function to simulate one game with n^2 counters with 2 not fixed\n",
    "def general_game(n):\n",
    "    dim1 = ( 2 * n ) + 1\n",
    "    dim2 = dim1 - 2\n",
    "    grid = np.zeros((dim1,dim2))\n",
    "    i = n-1\n",
    "    j = n    \n",
    "    grid[i,j] = 1\n",
    "    direction = rng.choice(['up', 'down', 'right', 'left'])\n",
    "    n_square = n*n\n",
    "    for k in range(n_square-1):\n",
    "        if direction == 'up':\n",
    "            i -= 1\n",
    "        elif direction == 'down':\n",
    "            i += 1\n",
    "        elif direction == 'right':\n",
    "            j += 1\n",
    "        elif direction == 'left':\n",
    "            j -= 1\n",
    "        if (i < 0) or (j < 0) or (i > dim1-1) or (j > dim2-1):\n",
    "            return 0\n",
    "        direction = get_direction(direction)\n",
    "        grid[i, j] = 1     \n",
    "    check = check_square_n(grid,n)\n",
    "    return check\n",
    "\n",
    "# function to run sims simulations of the game with n^2 counters\n",
    "def general_simulation(k,n,sims):\n",
    "    res = 0\n",
    "    for i in range(sims):\n",
    "        res += k(n)\n",
    "    return res"
   ]
  }
 ],
 "metadata": {
  "kernelspec": {
   "display_name": "Python 3 (ipykernel)",
   "language": "python",
   "name": "python3"
  },
  "language_info": {
   "codemirror_mode": {
    "name": "ipython",
    "version": 3
   },
   "file_extension": ".py",
   "mimetype": "text/x-python",
   "name": "python",
   "nbconvert_exporter": "python",
   "pygments_lexer": "ipython3",
   "version": "3.11.5"
  }
 },
 "nbformat": 4,
 "nbformat_minor": 5
}
