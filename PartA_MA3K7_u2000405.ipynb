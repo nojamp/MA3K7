{
 "cells": [
  {
   "cell_type": "markdown",
   "id": "9af6128a-20dd-477f-a140-599e30392ee5",
   "metadata": {},
   "source": [
    "# Big Mini Project (Part A)"
   ]
  },
  {
   "cell_type": "code",
   "execution_count": 1,
   "id": "2625891b-64bf-4d9c-9c59-54f22080346f",
   "metadata": {
    "tags": []
   },
   "outputs": [],
   "source": [
    "# All neccesary imports\n",
    "import numpy as np\n",
    "rng = np.random.default_rng()\n",
    "import matplotlib.pyplot as plt\n",
    "from sklearn.linear_model import LinearRegression\n",
    "import math"
   ]
  },
  {
   "cell_type": "markdown",
   "id": "0a097750-3169-4c98-b183-8cff292af266",
   "metadata": {},
   "source": [
    "## Entry\n",
    "A general function for playing the string game using n strings and k turns. Uses my idea to define each string as a string of zeros. Records the length of each unique loop made and on what turn it was made. This is just using my mathematical definition and this code is quite slow so I hope to optimise it for specific simulation. It is still important to have this so I can check my more optimised simulations later. "
   ]
  },
  {
   "cell_type": "code",
   "execution_count": 2,
   "id": "689ba893-b53d-4e8a-b5ac-c028832bc6fd",
   "metadata": {
    "tags": []
   },
   "outputs": [],
   "source": [
    "# function to simulate one string game for n strings and a specific number of turns\n",
    "# note that all strings will have formed loops after n turns\n",
    "# returns the list of loop sizes for each unique loop and a list of when each loop was made\n",
    "def string_game(n,turns):\n",
    "    strings_list = [ [0] for _ in range(n) ]\n",
    "    loops_list = []\n",
    "    loop_made = []\n",
    "    k = n\n",
    "    for i in range(turns):\n",
    "        # if no more strings left stop\n",
    "        if k == 0:\n",
    "            break\n",
    "        # need this as rng.integers doesn't work if the high point is 0\n",
    "        if k == 1:\n",
    "            choice1 = 0\n",
    "            choice2 = 0\n",
    "        else:\n",
    "            choice1, choice2 = rng.integers(0,k,2)\n",
    "        # the length of the first selected string\n",
    "        len1 = len(strings_list[choice1])\n",
    "        # if the ends of the same string chosen, loop formed\n",
    "        # record the length of this loop\n",
    "        # record the turn on which the loop was made\n",
    "        if choice1 == choice2:\n",
    "            loops_list.append(len1)\n",
    "            loop_made.append(i+1)\n",
    "        # if two different strings chosen, connect them\n",
    "        else:\n",
    "            for j in range(len1):\n",
    "                strings_list[choice2].append(0)\n",
    "        # remove the string that has either turned into a loop or been added to another string already\n",
    "        strings_list.pop(choice1)        \n",
    "        # record how many strings left\n",
    "        k = k-1\n",
    "    return loops_list, loop_made"
   ]
  },
  {
   "cell_type": "markdown",
   "id": "2b07999e-1fa3-43bd-b41e-a89e2c12a886",
   "metadata": {},
   "source": [
    "## Attack 2.1\n",
    "Now this code can be optimised for the first part of my attack: looking into $X_n$. I simply adjust the previous code to stop when the first loop is made and return the value of which turn it was made on. Since I then hope to simulate this, it returns the turn minus 1 so I can use it as an index in my simulation function which returns the whole distribution of $X_n$ for a givem number of simulations."
   ]
  },
  {
   "cell_type": "code",
   "execution_count": 3,
   "id": "b8e9e3d3-1e7f-4c7c-b612-57dc7879da63",
   "metadata": {
    "tags": []
   },
   "outputs": [],
   "source": [
    "# function that returns the turn-1 on which the 1st loop is a made in a game of n strings\n",
    "# optimised to stop after it gets first loop\n",
    "def string_game_1stloop(n):\n",
    "    strings_list = [ [0] for _ in range(n) ]\n",
    "    k = n\n",
    "    for i in range(n):\n",
    "        # need this as rng.integers doesn't work if the high point is 0\n",
    "        if k == 1:\n",
    "            return n-1\n",
    "        else:\n",
    "            choice1, choice2 = rng.integers(0,k,2)\n",
    "            len1 = len(strings_list[choice1])\n",
    "        if choice1 == choice2:\n",
    "            return i\n",
    "        # if two different strings chosen, connect them\n",
    "        else:\n",
    "            for j in range(len1):\n",
    "                strings_list[choice2].append(0)\n",
    "        strings_list.pop(choice1)        \n",
    "        # record how many strings left\n",
    "        k = k-1\n",
    "\n",
    "# function to simulate a number of string games using n strings until 1st loop\n",
    "# returns array of distribution of when 1st loop was reached\n",
    "def simulation_1stloop(n,sims):\n",
    "    res = np.zeros(n)\n",
    "    for i in range(sims):\n",
    "        indx = string_game_1stloop(n)\n",
    "        res[indx] += 1\n",
    "    return res / sims"
   ]
  },
  {
   "cell_type": "code",
   "execution_count": 4,
   "id": "6c2ddd66-ba85-413e-8219-a7bc7727afef",
   "metadata": {
    "tags": []
   },
   "outputs": [
    {
     "data": {
      "image/png": "[encoded data removed]",
      "text/plain": [
       "<Figure size 640x480 with 1 Axes>"
      ]
     },
     "metadata": {},
     "output_type": "display_data"
    }
   ],
   "source": [
    "# 100,000 simulations for X_4,X_8,X_12,X_16\n",
    "sims = 100000\n",
    "for i in range(4):\n",
    "    n = (i+1)*4\n",
    "    dist_1stloop = simulation_1stloop(n,sims)\n",
    "    x_1stloop = np.linspace(1,n,n)\n",
    "    plt.plot(x_1stloop,dist_1stloop,'o',label=f\"distribution of X_{n}\")\n",
    "plt.legend()\n",
    "plt.xlabel(\"n\")\n",
    "plt.ylabel(\"density\")\n",
    "plt.show()"
   ]
  },
  {
   "cell_type": "markdown",
   "id": "cc34831e-45d0-441c-9e89-d1bb4e10cb27",
   "metadata": {},
   "source": [
    "## Attack 2.2\n",
    "As discussed in the rubric, I can optimise my code for counting the number of loops made. Since the chance of making a loop from n strings is uniform, I can simply usse rng.integers to pick when this loop is made, then just keep track of how many strings are left after each loop is made. Hence I can optimise my code by a lot in this way. In fact, I can optimise my string_game_1stloop function in the same way but this would trivially give me a uniform distribution."
   ]
  },
  {
   "cell_type": "code",
   "execution_count": 5,
   "id": "a344759f-f89f-483c-9acd-b49015b9459a",
   "metadata": {
    "tags": []
   },
   "outputs": [],
   "source": [
    "# function to return number of loops made using bowl of n strings after n number of turns\n",
    "# returns number of loops made\n",
    "def string_game_loopsnum(n):\n",
    "    k = 0\n",
    "    loops = 0\n",
    "    while k <= n:\n",
    "        turn_of_loop = rng.integers(1, n - k + 1)\n",
    "        k += turn_of_loop\n",
    "        if k > n:\n",
    "            break\n",
    "        if k > n - 1:\n",
    "            loops += 1\n",
    "            break\n",
    "        loops += 1\n",
    "    return loops\n",
    "\n",
    "# function to simulate previous function and return density of each number of loops reached\n",
    "def simulation_loopsnum(n,sims):\n",
    "    res = np.zeros(n)\n",
    "    for i in range(sims):\n",
    "        indx = string_game_loopsnum(n) - 1\n",
    "        res[indx] += 1\n",
    "    return res/sims"
   ]
  },
  {
   "cell_type": "code",
   "execution_count": 6,
   "id": "dc396ab7-50d0-4253-bde8-7ecc27047205",
   "metadata": {
    "tags": []
   },
   "outputs": [],
   "source": [
    "# simulate the average number of loops made for the first 20 Y_n using 100,000 simulations\n",
    "sims = 100000\n",
    "avg_loopnum = np.zeros(20)\n",
    "for i in range(20):\n",
    "    n = i+1\n",
    "    res = simulation_loopsnum(n,sims)\n",
    "    x = np.linspace(1,n,n)\n",
    "    avg_loopnum[i] = np.average(x,weights=res)"
   ]
  },
  {
   "cell_type": "code",
   "execution_count": 7,
   "id": "f1db1097-5120-4247-851b-ff4985489676",
   "metadata": {
    "tags": []
   },
   "outputs": [
    {
     "data": {
      "image/png": "[encoded data removed]",
      "text/plain": [
       "<Figure size 640x480 with 1 Axes>"
      ]
     },
     "metadata": {},
     "output_type": "display_data"
    }
   ],
   "source": [
    "x_avg_loops = np.linspace(1,20,20)\n",
    "estimate1 = np.log2(x+1)\n",
    "estimate2 = np.log(x+2)/np.log(3)\n",
    "plt.plot(x_avg_loops,avg_loopnum,label=\"Average loop number\")\n",
    "plt.plot(x_avg_loops,estimate1,label=\"estimate using log2\")\n",
    "plt.plot(x_avg_loops,estimate2,label=\"estimate using log3\")\n",
    "plt.legend()\n",
    "plt.xlabel(\"n\")\n",
    "plt.ylabel(\"loops formed\")\n",
    "plt.show()"
   ]
  },
  {
   "cell_type": "markdown",
   "id": "680d18ce-2428-4c92-ac22-dd36a834add6",
   "metadata": {},
   "source": [
    "To find the optimal log base of $E(Y_n)$, I can simply write a function to optimise it. I have that it is between 2 and 3 and so my first guess will be 2.5."
   ]
  },
  {
   "cell_type": "code",
   "execution_count": 8,
   "id": "06e8a558-2158-4e79-8f43-654ed7d09420",
   "metadata": {
    "tags": []
   },
   "outputs": [
    {
     "name": "stdout",
     "output_type": "stream",
     "text": [
      "The optimal base of the logarithm is  2.7097668647766113\n",
      "which gives a correlation coefficient of  0.9999615600687266\n"
     ]
    }
   ],
   "source": [
    "def optimize_coefficient(x, y, initial_guess ,lb, ub):\n",
    "    \n",
    "    model.fit(x, initial_guess ** y)\n",
    "    r_sq_initial = model.score(x, initial_guess ** y)\n",
    "    \n",
    "    model.fit(x, lb ** y)\n",
    "    r_sq_lower = model.score(x, lb ** y)\n",
    "    \n",
    "    model.fit(x, ub ** y)\n",
    "    r_sq_upper = model.score(x, ub ** y)\n",
    "    \n",
    "    new_guess_lower = ( lb + initial_guess ) / 2\n",
    "    new_guess_upper = ( ub + initial_guess ) / 2\n",
    "    \n",
    "    model.fit(x, new_guess_lower ** y)\n",
    "    r_sq_new_lower = model.score(x, new_guess_lower ** y)\n",
    "    \n",
    "    model.fit(x, new_guess_upper ** y)\n",
    "    r_sq_new_upper = model.score(x, new_guess_upper ** y)\n",
    "    \n",
    "    if r_sq_new_lower > r_sq_new_upper:\n",
    "        return x, y, new_guess_lower , lb, initial_guess\n",
    "    else:\n",
    "        return x, y, new_guess_upper , initial_guess, ub\n",
    "\n",
    "x_model = x_avg_loops\n",
    "x_model = x_model.reshape((-1, 1))\n",
    "y = avg_loopnum\n",
    "initial_guess = 2.5\n",
    "lb = 2\n",
    "ub = 3\n",
    "model = LinearRegression()\n",
    "for _ in range(20):\n",
    "    x, y, initial_guess ,lb, ub = optimize_coefficient(x_model, y, initial_guess ,lb, ub)\n",
    "\n",
    "best_guess = initial_guess\n",
    "model.fit(x_model, best_guess ** y)\n",
    "r_sq = model.score(x_model, best_guess ** y)\n",
    "print(\"The optimal base of the logarithm is \", best_guess)\n",
    "print(\"which gives a correlation coefficient of \", r_sq)"
   ]
  },
  {
   "cell_type": "code",
   "execution_count": 9,
   "id": "d253c97c-22d6-43b0-a0d8-247a1ea80a77",
   "metadata": {
    "tags": []
   },
   "outputs": [
    {
     "name": "stdout",
     "output_type": "stream",
     "text": [
      "1.8317965657511863\n"
     ]
    }
   ],
   "source": [
    "# evaluating my proposed model at n=3\n",
    "def proposed_model(n):\n",
    "    sqrt_e = np.exp(1/2)\n",
    "    return np.log( (sqrt_e - 1)*n + (2 - sqrt_e) ) + 1\n",
    "\n",
    "print(proposed_model(3))"
   ]
  },
  {
   "cell_type": "markdown",
   "id": "9d3af125-1145-46bc-b2ef-b7bd972dc258",
   "metadata": {},
   "source": [
    "## Attack 2.4"
   ]
  },
  {
   "cell_type": "code",
   "execution_count": 10,
   "id": "7fb69031-c19a-424e-840e-9b295d62adb0",
   "metadata": {
    "tags": []
   },
   "outputs": [],
   "source": [
    "# Function to generate the first row_num rows of the beta triangle from the rubric\n",
    "def beta_triangle(row_num):\n",
    "    triangle = np.zeros((row_num,row_num))\n",
    "    for i in range(row_num):\n",
    "        triangle[i,0] = math.factorial(i)\n",
    "    for i in range(1,row_num):\n",
    "        for j in range(i+1):\n",
    "            triangle[i,j] = triangle[i-1,j-1] + i*triangle[i-1,j]\n",
    "    return triangle\n",
    "\n",
    "# Function to print the first row_num rows of the beta triangle\n",
    "# row_num has to be greater or equal to the num_rows of the actual beta triangle inputted\n",
    "def print_beta_triangle(beta, row_num):\n",
    "    for i in range(row_num):\n",
    "        for j in range(0, row_num-i):\n",
    "            print(' ', end=' ') \n",
    "        for j in range(i+1):\n",
    "            s = int(beta[i,j])\n",
    "            print('{:^4}'.format(s), end='')\n",
    "        print('')\n",
    "\n",
    "# Function to print the first row_num rows of the alpha triangle\n",
    "# row_num has to be greater or equal to the num_rows of the actual beta triangle inputted\n",
    "def print_alpha_triangle(beta, row_num):\n",
    "    for i in range(row_num):\n",
    "        for j in range(0, row_num-i):\n",
    "            print('   ', end='') \n",
    "        for j in range(i+1):\n",
    "            s = round( beta[i,j] / math.factorial(i+1) , 3)\n",
    "            #print(' ', s, sep=' ', end='')\n",
    "            print('{:^8}'.format(s), end='')\n",
    "        print('') "
   ]
  },
  {
   "cell_type": "code",
   "execution_count": 11,
   "id": "89880921-bbb7-43bb-972c-20887b0d032e",
   "metadata": {
    "tags": []
   },
   "outputs": [
    {
     "name": "stdout",
     "output_type": "stream",
     "text": [
      "             1  \n",
      "           1   1  \n",
      "         2   3   1  \n",
      "       6   11  6   1  \n",
      "     24  50  35  10  1  \n",
      "  120 274 225  85  15  1  \n"
     ]
    }
   ],
   "source": [
    "# generate the beta triangle\n",
    "# it is larger than neccessary for use later\n",
    "beta = beta_triangle(16) \n",
    "# print the first 6 rows of the beta triangle as per rubric\n",
    "print_beta_triangle(beta,6)"
   ]
  },
  {
   "cell_type": "code",
   "execution_count": 12,
   "id": "afb36d01-eb3c-44ae-ae80-793029cd3d9a",
   "metadata": {
    "tags": []
   },
   "outputs": [
    {
     "name": "stdout",
     "output_type": "stream",
     "text": [
      "                    1.0   \n",
      "                 0.5     0.5   \n",
      "             0.333    0.5    0.167  \n",
      "           0.25   0.458    0.25   0.042  \n",
      "        0.2    0.417   0.292   0.083   0.008  \n",
      "    0.167   0.381   0.312   0.118   0.021   0.001  \n"
     ]
    }
   ],
   "source": [
    "# print first 6 rows of the alpha triangle\n",
    "print_alpha_triangle(beta,6)"
   ]
  },
  {
   "cell_type": "code",
   "execution_count": 13,
   "id": "72f7ca94-e716-4bd9-a772-41a55786bc2d",
   "metadata": {
    "tags": []
   },
   "outputs": [],
   "source": [
    "## Function to return a diagonal of the beta matrix\n",
    "def diagonal_beta(beta,diagonal):\n",
    "    size = len(beta)\n",
    "    size = size - diagonal\n",
    "    res = np.zeros(size)\n",
    "    for i in range(size):\n",
    "        res[i] = beta[diagonal+i,i]\n",
    "    return res\n",
    "\n",
    "## Function to calculate coefficients of polynomial of desired degree\n",
    "def coefficients(deg,start,diagonal):\n",
    "    size = deg + 1\n",
    "    mat = np.zeros((size,size))\n",
    "    values = diagonal[:size]\n",
    "    for i in range(size):\n",
    "        power = start + i\n",
    "        for j in range(size):\n",
    "            mat[i,j] = power**(deg-j)\n",
    "    return np.linalg.solve(mat,values)\n",
    "\n",
    "## Function to return the next value the polynomial gives\n",
    "def test_coefficients(deg,start,coeffs):\n",
    "    power = start + deg + 1\n",
    "    res = 0\n",
    "    for i in range(deg+1):\n",
    "        res += ( power**(deg-i) ) * coeffs[i]\n",
    "    return res"
   ]
  },
  {
   "cell_type": "code",
   "execution_count": 14,
   "id": "168c3c89-6386-47ac-bb2d-eb4889007f60",
   "metadata": {
    "tags": []
   },
   "outputs": [],
   "source": [
    "# function to test polynomial model of degree n for modelling the k^th diagonal\n",
    "# prints the predicted next value and actual next value\n",
    "# returns coefficients of the polynomial\n",
    "def polynomial_model(diagonal_num,deg,beta):\n",
    "    diagonal_n = diagonal_beta(beta,diagonal_num)\n",
    "    coeffs = coefficients(deg, diagonal_num, diagonal_n)\n",
    "    test = test_coefficients(deg, diagonal_num, coeffs)\n",
    "    print(\"expected to get \", diagonal_n[deg+1])\n",
    "    print(\"actually got \", test)\n",
    "    \n",
    "    return coeffs"
   ]
  },
  {
   "cell_type": "markdown",
   "id": "3450daf0-e7b4-4107-b334-2d8c42c69796",
   "metadata": {},
   "source": [
    "First we look for a polynomial for the 2nd diagonal (the diagonal of ones we treat as the 0th diagonal)."
   ]
  },
  {
   "cell_type": "code",
   "execution_count": 15,
   "id": "95a60c84-eaf2-477a-994a-207fcac29c69",
   "metadata": {
    "tags": []
   },
   "outputs": [
    {
     "name": "stdout",
     "output_type": "stream",
     "text": [
      "expected to get  175.0\n",
      "actually got  172.00000000000003\n"
     ]
    }
   ],
   "source": [
    "diag2_deg3 = polynomial_model(2,3,beta)"
   ]
  },
  {
   "cell_type": "markdown",
   "id": "163781f8-fdb8-4e0a-ab78-7907bf853932",
   "metadata": {},
   "source": [
    "So a polynomial of degree 3 fails."
   ]
  },
  {
   "cell_type": "code",
   "execution_count": 16,
   "id": "433fbf4d-103e-4c7e-a458-801a8e31377e",
   "metadata": {
    "tags": []
   },
   "outputs": [
    {
     "name": "stdout",
     "output_type": "stream",
     "text": [
      "expected to get  322.0\n",
      "actually got  322.0\n"
     ]
    }
   ],
   "source": [
    "diag2_deg4 = polynomial_model(2,4,beta)"
   ]
  },
  {
   "cell_type": "markdown",
   "id": "0aa2fdbd-bb7b-44b4-8e4a-af8e0a23e1e3",
   "metadata": {},
   "source": [
    "Polynomial of degree 4 appears to work. Let us see the coefficients."
   ]
  },
  {
   "cell_type": "code",
   "execution_count": 17,
   "id": "0fe880cd-3ddc-4142-a5bf-e3ce4a95a8b9",
   "metadata": {
    "tags": []
   },
   "outputs": [
    {
     "name": "stdout",
     "output_type": "stream",
     "text": [
      "[ 1.25000000e-01  8.33333333e-02 -1.25000000e-01 -8.33333333e-02\n",
      " -8.53483950e-15]\n"
     ]
    }
   ],
   "source": [
    "print(diag2_deg4)"
   ]
  },
  {
   "cell_type": "code",
   "execution_count": 18,
   "id": "b27354e5-43ab-4130-abee-aeca831bf461",
   "metadata": {
    "tags": []
   },
   "outputs": [
    {
     "name": "stdout",
     "output_type": "stream",
     "text": [
      "[ 3.00000000e+00  2.00000000e+00 -3.00000000e+00 -2.00000000e+00\n",
      " -2.04836148e-13]\n"
     ]
    }
   ],
   "source": [
    "# 0.125 looks like needs to be multiplied by 8 to be whole and 0.08333 looks like needs to\n",
    "# be multiplied by 3\n",
    "print(diag2_deg4*8*3)"
   ]
  },
  {
   "cell_type": "markdown",
   "id": "e7522e82-d6c7-4b96-8111-24b65c372032",
   "metadata": {},
   "source": [
    "Appears to be the polynomial $(3x^4+2x^3-3x^2-2x)/24$. We can test this against all the values in the diagonal."
   ]
  },
  {
   "cell_type": "code",
   "execution_count": 19,
   "id": "1293affc-7f9e-46b3-8f97-eb3c511df487",
   "metadata": {
    "tags": []
   },
   "outputs": [
    {
     "name": "stdout",
     "output_type": "stream",
     "text": [
      "0.0\n"
     ]
    }
   ],
   "source": [
    "diagonal2 = diagonal_beta(beta,2)\n",
    "x_diagonal2 = np.linspace(2,15,14)\n",
    "polynomial_diag2 = ( 3*(x_diagonal2**4)+2*(x_diagonal2**3)-3*(x_diagonal2**2)-2*x_diagonal2 ) / 24\n",
    "testing2 = np.abs( diagonal2 - polynomial_diag2 )\n",
    "print(np.max(testing2))"
   ]
  },
  {
   "cell_type": "markdown",
   "id": "37f2193c-2fae-4d52-97f9-bbcab7fb6f50",
   "metadata": {},
   "source": [
    "So the polynomial appears to be correct. Next we look for a polynomial for the 3rd diagonal."
   ]
  },
  {
   "cell_type": "code",
   "execution_count": 20,
   "id": "39c73696-36d6-4ed3-9af6-9cead9fded07",
   "metadata": {
    "tags": []
   },
   "outputs": [
    {
     "name": "stdout",
     "output_type": "stream",
     "text": [
      "expected to get  9450.0\n",
      "actually got  9435.000000000004\n"
     ]
    }
   ],
   "source": [
    "diag3_deg5 = polynomial_model(3,5,beta)"
   ]
  },
  {
   "cell_type": "markdown",
   "id": "6c309bbf-19fc-444b-a572-15effbe3a837",
   "metadata": {},
   "source": [
    "So a polynomial of degree 5 fails."
   ]
  },
  {
   "cell_type": "code",
   "execution_count": 21,
   "id": "a963c0b5-4783-4b40-8a5d-c0331eef4d64",
   "metadata": {
    "tags": []
   },
   "outputs": [
    {
     "name": "stdout",
     "output_type": "stream",
     "text": [
      "expected to get  18150.0\n",
      "actually got  18150.00000000001\n"
     ]
    }
   ],
   "source": [
    "diag3_deg6 = polynomial_model(3,6,beta)"
   ]
  },
  {
   "cell_type": "markdown",
   "id": "06da205c-cfc9-48f0-bd5d-9075c22e0900",
   "metadata": {},
   "source": [
    "Polynomial of degree 6 appears to work. Let us see the coefficients."
   ]
  },
  {
   "cell_type": "code",
   "execution_count": 22,
   "id": "864c3350-c919-4339-b835-9b4499eb07a5",
   "metadata": {
    "tags": []
   },
   "outputs": [
    {
     "name": "stdout",
     "output_type": "stream",
     "text": [
      "[ 2.08333333e-02 -2.08333333e-02 -6.25000000e-02  2.08333333e-02\n",
      "  4.16666667e-02 -8.06142972e-11  6.73483977e-11]\n"
     ]
    }
   ],
   "source": [
    "print(diag3_deg6)"
   ]
  },
  {
   "cell_type": "code",
   "execution_count": 23,
   "id": "86858417-23dd-462b-93c2-ecf057a3cce6",
   "metadata": {
    "tags": []
   },
   "outputs": [
    {
     "name": "stdout",
     "output_type": "stream",
     "text": [
      "[ 5.00000000e-01 -5.00000000e-01 -1.50000000e+00  5.00000000e-01\n",
      "  1.00000000e+00 -1.93474313e-09  1.61636154e-09]\n"
     ]
    }
   ],
   "source": [
    "# last time the divisor was 24 so worth trying to multiply by 24\n",
    "print(diag3_deg6*24)"
   ]
  },
  {
   "cell_type": "code",
   "execution_count": 24,
   "id": "ac7deb56-30ed-4322-9440-cd9af176c1bc",
   "metadata": {
    "tags": []
   },
   "outputs": [
    {
     "name": "stdout",
     "output_type": "stream",
     "text": [
      "[ 1.00000000e+00 -1.00000000e+00 -3.00000000e+00  1.00000000e+00\n",
      "  2.00000000e+00 -3.86948627e-09  3.23272309e-09]\n"
     ]
    }
   ],
   "source": [
    "# looks like it has an extra factor of 1/2\n",
    "print(diag3_deg6*24*2)"
   ]
  },
  {
   "cell_type": "markdown",
   "id": "58a9c87d-e275-46bf-a639-009dec89b407",
   "metadata": {},
   "source": [
    "Appears to be the polynomial $(x^6-x^5-3x^4+x^3+2x^2)/48$. We can test this against all the values in the diagonal."
   ]
  },
  {
   "cell_type": "code",
   "execution_count": 25,
   "id": "31ae0888-8621-4155-81a6-0a4ce93ad6e8",
   "metadata": {
    "tags": []
   },
   "outputs": [
    {
     "name": "stdout",
     "output_type": "stream",
     "text": [
      "0.0\n"
     ]
    }
   ],
   "source": [
    "diagonal3 = diagonal_beta(beta,3)\n",
    "x_diagonal3 = np.linspace(3,15,13)\n",
    "polynomial_diag3 = ( (x_diagonal3**6)-(x_diagonal3**5)-3*(x_diagonal3**4)+(x_diagonal3**3)\n",
    "                    +2*(x_diagonal3**2) ) / 48\n",
    "testing3 = np.abs( diagonal3 - polynomial_diag3 )\n",
    "print(np.max(testing3))"
   ]
  },
  {
   "cell_type": "markdown",
   "id": "631d8356-16ee-4099-93b8-984d8f49e82e",
   "metadata": {},
   "source": [
    "So the polynomial appears to be correct. Next we look for a polynomial for the 4th diagonal."
   ]
  },
  {
   "cell_type": "code",
   "execution_count": 26,
   "id": "4a732c48-921d-4ee4-a2ac-0fc057d196cb",
   "metadata": {
    "tags": []
   },
   "outputs": [
    {
     "name": "stdout",
     "output_type": "stream",
     "text": [
      "expected to get  749463.0\n",
      "actually got  749358.0000000295\n"
     ]
    }
   ],
   "source": [
    "diag4_deg7 = polynomial_model(4,7,beta)"
   ]
  },
  {
   "cell_type": "markdown",
   "id": "868effd4-a85b-4604-818a-c6f43d6895b3",
   "metadata": {},
   "source": [
    "So a polynomial of degree 7 fails."
   ]
  },
  {
   "cell_type": "code",
   "execution_count": 27,
   "id": "1053ca1d-0a8f-4f75-9669-d63eda10eaa8",
   "metadata": {
    "tags": []
   },
   "outputs": [
    {
     "name": "stdout",
     "output_type": "stream",
     "text": [
      "expected to get  1474473.0\n",
      "actually got  1474473.0000000019\n"
     ]
    }
   ],
   "source": [
    "diag4_deg8 = polynomial_model(4,8,beta)"
   ]
  },
  {
   "cell_type": "markdown",
   "id": "6f980720-5209-43cd-a4b6-a5e3f395b5bd",
   "metadata": {},
   "source": [
    "Polynomial of degree 8 appears to work. Let us see the coefficients."
   ]
  },
  {
   "cell_type": "code",
   "execution_count": 28,
   "id": "c08f1911-00ea-49df-82d2-57880ab72f91",
   "metadata": {
    "tags": []
   },
   "outputs": [
    {
     "name": "stdout",
     "output_type": "stream",
     "text": [
      "[ 2.60416667e-03 -1.04166667e-02 -1.73611110e-03  3.33333332e-02\n",
      " -4.34027621e-03 -3.12500091e-02  3.47225469e-03  8.33326826e-03\n",
      "  5.60354627e-08]\n"
     ]
    }
   ],
   "source": [
    "print(diag4_deg8)"
   ]
  },
  {
   "cell_type": "code",
   "execution_count": 29,
   "id": "2dcd0e92-7409-42cc-8373-4a1daec5f13a",
   "metadata": {
    "tags": []
   },
   "outputs": [
    {
     "name": "stdout",
     "output_type": "stream",
     "text": [
      "[ 1.25000000e-01 -5.00000000e-01 -8.33333328e-02  1.59999999e+00\n",
      " -2.08333258e-01 -1.50000044e+00  1.66668225e-01  3.99996876e-01\n",
      "  2.68970221e-06]\n"
     ]
    }
   ],
   "source": [
    "# as before multiply by previous factor\n",
    "print(diag4_deg8*48)"
   ]
  },
  {
   "cell_type": "code",
   "execution_count": 30,
   "id": "8a518165-e375-4887-ba9b-c6fda7d8db1e",
   "metadata": {
    "tags": []
   },
   "outputs": [
    {
     "name": "stdout",
     "output_type": "stream",
     "text": [
      "[ 3.00000000e+00 -1.20000000e+01 -1.99999999e+00  3.83999998e+01\n",
      " -4.99999819e+00 -3.60000105e+01  4.00003740e+00  9.59992503e+00\n",
      "  6.45528530e-05]\n"
     ]
    }
   ],
   "source": [
    "# 0.125 looks like needs to be multiplied by 8 to be whole and 0.08333 looks like needs to\n",
    "# be multiplied by 3\n",
    "print(diag4_deg8*48*8*3)"
   ]
  },
  {
   "cell_type": "code",
   "execution_count": 31,
   "id": "d3863d6b-b3de-4e88-8b51-0ef1a67dcfbf",
   "metadata": {
    "tags": []
   },
   "outputs": [
    {
     "name": "stdout",
     "output_type": "stream",
     "text": [
      "[ 1.50000000e+01 -6.00000000e+01 -9.99999993e+00  1.91999999e+02\n",
      " -2.49999910e+01 -1.80000052e+02  2.00001870e+01  4.79996251e+01\n",
      "  3.22764265e-04]\n"
     ]
    }
   ],
   "source": [
    "# -3.6 looks like it needs to be multiplied by 5\n",
    "print(diag4_deg8*48*8*3*5)"
   ]
  },
  {
   "cell_type": "markdown",
   "id": "3ff1e903-91d0-4367-90d5-a54b6fd83b27",
   "metadata": {},
   "source": [
    "Appears to be the polynomial $(15x^8-60x^7-10x^6+120x^5-25x^4-180x^3+20x^2+48x)/5760$. We can test this against all the values in the diagonal."
   ]
  },
  {
   "cell_type": "code",
   "execution_count": 32,
   "id": "610dad0b-8967-4b22-b0a9-b8ae698447b8",
   "metadata": {
    "tags": []
   },
   "outputs": [
    {
     "name": "stdout",
     "output_type": "stream",
     "text": [
      "0.0\n"
     ]
    }
   ],
   "source": [
    "diagonal4 = diagonal_beta(beta,4)\n",
    "x_diagonal4 = np.linspace(4,15,12)\n",
    "polynomial_diag4 = ( 15*(x_diagonal4**8)-60*(x_diagonal4**7)-10*(x_diagonal4**6)+192*(x_diagonal4**5)\n",
    "                    -25*(x_diagonal4**4)-180*(x_diagonal4**3)+20*(x_diagonal4**2)+48*(x_diagonal4) ) / 5760\n",
    "testing4 = np.abs( diagonal4 - polynomial_diag4 )\n",
    "print(np.max(testing4))"
   ]
  },
  {
   "cell_type": "markdown",
   "id": "c9119d97-efe4-43de-828c-626e06894c58",
   "metadata": {},
   "source": [
    "So the polynomial appears to be correct.\n",
    "## Attack 2.5"
   ]
  },
  {
   "cell_type": "code",
   "execution_count": 33,
   "id": "915ea9e2-65aa-441f-ab89-7c76c0e13733",
   "metadata": {
    "tags": []
   },
   "outputs": [
    {
     "name": "stdout",
     "output_type": "stream",
     "text": [
      "[1.       0.499235 0.334513 0.249232 0.200309]\n"
     ]
    }
   ],
   "source": [
    "sims = 1000000\n",
    "avg_loopnum = np.zeros(5)\n",
    "for i in range(5):\n",
    "    n = i+1\n",
    "    res = simulation_loopsnum(n,sims)\n",
    "    x = np.linspace(1,n,n)\n",
    "    avg_loopnum[i] = np.average(x,weights=res)\n",
    "\n",
    "for i in range(4):\n",
    "    avg_loopnum[4-i] -= avg_loopnum[3-i]\n",
    "print(avg_loopnum)"
   ]
  },
  {
   "cell_type": "code",
   "execution_count": 34,
   "id": "c4f435c6-06a0-49de-9332-e270af3e139c",
   "metadata": {
    "tags": []
   },
   "outputs": [],
   "source": [
    "# code to check my conjecture\n",
    "sims = 10000\n",
    "avg_loopnum50 = np.zeros(50)\n",
    "for i in range(50):\n",
    "    n = i+1\n",
    "    res = simulation_loopsnum(n,sims)\n",
    "    x = np.linspace(1,n,n)\n",
    "    avg_loopnum50[i] = np.average(x,weights=res)\n",
    "\n",
    "# generate first 50 partial sums of the harmonic sum    \n",
    "first_50_harmonic = np.zeros(50)\n",
    "first_50_harmonic[0] = 1\n",
    "for i in range(49):\n",
    "    first_50_harmonic[i+1] = first_50_harmonic[i] + 1/(i+2)"
   ]
  },
  {
   "cell_type": "code",
   "execution_count": 35,
   "id": "6c828246-6d07-4833-8709-034c0542cbe5",
   "metadata": {
    "tags": []
   },
   "outputs": [
    {
     "data": {
      "image/png": "[encoded data removed]",
      "text/plain": [
       "<Figure size 640x480 with 1 Axes>"
      ]
     },
     "metadata": {},
     "output_type": "display_data"
    }
   ],
   "source": [
    "x_avg_loops50 = np.linspace(1,50,50)\n",
    "\n",
    "plt.plot(x_avg_loops50,avg_loopnum50,'o',label=\"avg loop number from simulations\")\n",
    "plt.plot(x_avg_loops50,first_50_harmonic,label=\"avg loop number using formula\")\n",
    "plt.legend()\n",
    "plt.xlabel(\"n\")\n",
    "plt.ylabel(\"number of loops\")\n",
    "plt.show()"
   ]
  },
  {
   "cell_type": "markdown",
   "id": "c551038b-0902-4e9c-9beb-1d68e9d44e6e",
   "metadata": {},
   "source": [
    "## Attack 2.6"
   ]
  },
  {
   "cell_type": "code",
   "execution_count": 36,
   "id": "6bb911bc-4251-4152-b519-040df32ae90a",
   "metadata": {
    "tags": []
   },
   "outputs": [],
   "source": [
    "# function to adapt string_game_loopsnum to give the distribution\n",
    "# of how many loops are there on which turn\n",
    "def string_game_loopsnum_dist(n):\n",
    "    k = 0\n",
    "    loops_dist = np.zeros(n)\n",
    "    while k <= n:\n",
    "        turn_of_loop = rng.integers(1, n - k + 1)\n",
    "        k += turn_of_loop\n",
    "        if k > n:\n",
    "            break\n",
    "        if k > n - 1:\n",
    "            loops_dist[n-1] += 1\n",
    "            break\n",
    "        loops_dist[k-1::] += 1\n",
    "    return loops_dist\n",
    "\n",
    "# code to simulate the previous function\n",
    "def sim_loopsnum_dist(n,sims):\n",
    "    loops_dist = np.zeros(n)\n",
    "    for i in range(sims):\n",
    "        loops_dist += string_game_loopsnum_dist(n)\n",
    "    return loops_dist/sims"
   ]
  },
  {
   "cell_type": "code",
   "execution_count": 37,
   "id": "81226038-2172-4147-9e48-25fc897f9ff2",
   "metadata": {
    "tags": []
   },
   "outputs": [],
   "source": [
    "# code to check my conjecture for X_20\n",
    "loops_dist20 = sim_loopsnum_dist(20,10000)\n",
    "\n",
    "my_formula20 = np.zeros(20)\n",
    "my_formula20[0] = 1/20\n",
    "for i in range(19):\n",
    "    my_formula20[i+1] = my_formula20[i] + 1/(19-i)"
   ]
  },
  {
   "cell_type": "code",
   "execution_count": 38,
   "id": "71d21764-9488-4745-ac16-3e8bb0108a9d",
   "metadata": {
    "tags": []
   },
   "outputs": [
    {
     "data": {
      "image/png": "[encoded data removed]",
      "text/plain": [
       "<Figure size 640x480 with 1 Axes>"
      ]
     },
     "metadata": {},
     "output_type": "display_data"
    }
   ],
   "source": [
    "x_loops_dist20 = np.linspace(1,20,20)\n",
    "plt.plot(x_loops_dist20,loops_dist20,'o',label=\"distribution of Y_{20,k} from simulations\")\n",
    "plt.plot(x_loops_dist20,my_formula20,label=\"distribution of Y_{20,k} from my formula\")\n",
    "plt.legend()\n",
    "plt.xlabel(\"number of turns\")\n",
    "plt.ylabel(\"number of loops\")\n",
    "plt.show()"
   ]
  },
  {
   "cell_type": "markdown",
   "id": "24f47eac-e841-4254-be4a-ab72e67787cc",
   "metadata": {},
   "source": [
    "## Attack 2.7"
   ]
  },
  {
   "cell_type": "code",
   "execution_count": 39,
   "id": "d1881a68-7fb2-43bf-a09d-83ede8b40332",
   "metadata": {
    "tags": []
   },
   "outputs": [],
   "source": [
    "# function to simulate one string game for n strings and a specific number of turns\n",
    "# note that all strings will have formed loops after n turns\n",
    "# returns the list of loop sizes for each unique loop and a list of when each loop was made\n",
    "def string_game_looplength(n,turns):\n",
    "    strings_list = [ [0] for _ in range(n) ]\n",
    "    loops_list = []\n",
    "    k = n\n",
    "    for i in range(turns):\n",
    "        # if no more strings left stop\n",
    "        if k == 0:\n",
    "            break\n",
    "        # need this as rng.integers doesn't work if the high point is 0\n",
    "        if k == 1:\n",
    "            choice1 = 0\n",
    "            choice2 = 0\n",
    "        else:\n",
    "            choice1, choice2 = rng.integers(0,k,2)\n",
    "        # the length of the first selected string\n",
    "        len1 = len(strings_list[choice1])\n",
    "        # if the ends of the same string chosen, loop formed\n",
    "        # record the length of this loop\n",
    "        # record the turn on which the loop was made\n",
    "        if choice1 == choice2:\n",
    "            loops_list.append(len1)\n",
    "        # if two different strings chosen, connect them\n",
    "        else:\n",
    "            for j in range(len1):\n",
    "                strings_list[choice2].append(0)\n",
    "        # remove the string that has either turned into a loop or been added to another string already\n",
    "        strings_list.pop(choice1)        \n",
    "        # record how many strings left\n",
    "        k = k-1\n",
    "    return loops_list\n",
    "\n",
    "# function to simulate previous function\n",
    "def sim_avg_loop_length(n,turns,sims):\n",
    "    res = 0\n",
    "    for i in range(sims):\n",
    "        loops_list = string_game_looplength(n,turns)\n",
    "        res += np.average(loops_list)\n",
    "    return res/sims"
   ]
  },
  {
   "cell_type": "code",
   "execution_count": 40,
   "id": "6956b1b7-fa32-4085-a060-2c9933536817",
   "metadata": {
    "tags": []
   },
   "outputs": [],
   "source": [
    "sims = 1000\n",
    "avg_loop_length = np.zeros(50)\n",
    "for i in range(50):\n",
    "    avg_loop_length[i] = sim_avg_loop_length(i+1,i+1,sims)"
   ]
  },
  {
   "cell_type": "code",
   "execution_count": 41,
   "id": "43e5a7d7-43ed-4f0e-96e3-d98b5e6e29d2",
   "metadata": {
    "tags": []
   },
   "outputs": [
    {
     "data": {
      "image/png": "[encoded data removed]",
      "text/plain": [
       "<Figure size 640x480 with 1 Axes>"
      ]
     },
     "metadata": {},
     "output_type": "display_data"
    }
   ],
   "source": [
    "x_loop_length = np.linspace(1,50,50)\n",
    "y_myformula = x_loop_length / first_50_harmonic\n",
    "plt.plot(x_loop_length,avg_loop_length,'o',label=\"average loop length from simulations\")\n",
    "plt.plot(x_loop_length,y_myformula,label=\"average loop length from formula\")\n",
    "plt.xlabel(\"n\")\n",
    "plt.ylabel(\"loop length\")\n",
    "plt.legend()\n",
    "plt.show()"
   ]
  }
 ],
 "metadata": {
  "kernelspec": {
   "display_name": "Python 3 (ipykernel)",
   "language": "python",
   "name": "python3"
  },
  "language_info": {
   "codemirror_mode": {
    "name": "ipython",
    "version": 3
   },
   "file_extension": ".py",
   "mimetype": "text/x-python",
   "name": "python",
   "nbconvert_exporter": "python",
   "pygments_lexer": "ipython3",
   "version": "3.11.5"
  }
 },
 "nbformat": 4,
 "nbformat_minor": 5
}
